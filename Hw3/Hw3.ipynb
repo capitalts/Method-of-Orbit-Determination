{
 "cells": [
  {
   "cell_type": "markdown",
   "id": "aedecd21-7596-4830-9a1c-4fb50f032cd6",
   "metadata": {},
   "source": [
    "## HW 3\n",
    "### Tory Smith"
   ]
  },
  {
   "cell_type": "code",
   "execution_count": 1,
   "id": "65da5043-01c1-44ea-9ffe-dc3b3ff28f49",
   "metadata": {
    "tags": []
   },
   "outputs": [],
   "source": [
    "import numpy as np\n",
    "import matplotlib.pyplot as plt\n",
    "from scipy.integrate import odeint, solve_ivp"
   ]
  },
  {
   "cell_type": "markdown",
   "id": "78f38220-a4fa-4dc0-b835-3be2bbd86fd3",
   "metadata": {},
   "source": [
    "**1. Assume an orbit plane coordinate system with a gravitational parameter of 1, i.e., μ = 1.**"
   ]
  },
  {
   "cell_type": "markdown",
   "id": "e0ab891e-e229-45d3-b63d-00d458fb209a",
   "metadata": {},
   "source": [
    "**a. Generate a “true” solution by numerically integrating the equations of motion for the initial\n",
    "condition**\n",
    "\n",
    "**Save the values of the state vector $X(t_i)$ for $t_i$ = i ·10 time units (TU); i = 0,...,10.\n",
    "Provide X(ti) for t1 and t10 in the writeup.\n",
    "In your write-up, please indicate which integrator you used, what the tolerance was set\n",
    "to, and any other details necessary. Note, if you use a fixed time-step integrator, set the\n",
    "time-step to be smaller than 10 TU, but only save the data at 10 TU intervals.**"
   ]
  },
  {
   "cell_type": "code",
   "execution_count": 264,
   "id": "06574359-0c85-4e90-9456-bbddfa4b6a7e",
   "metadata": {},
   "outputs": [],
   "source": [
    "t = np.arange(0, 110, 10)\n",
    "mu = 1\n",
    "#initial Conditions\n",
    "X0 = np.array([1, 0, 0, 1])\n",
    "\n",
    "#equations of motion\n",
    "def two_body(t, R, mu):\n",
    "    r = np.linalg.norm(R[0:2])\n",
    "    r_ddot = -R[0:2]/r**3\n",
    "    return np.concatenate([R[2:4], r_ddot])\n",
    "                           \n",
    "\n",
    "#numeric integration\n",
    "sol_two_body = solve_ivp(two_body, [0, 100], X0, args=(mu,), t_eval=t, rtol=3E-14, atol=1E-16)\n"
   ]
  },
  {
   "cell_type": "code",
   "execution_count": 267,
   "id": "72e2b3cc-bf8a-4f32-a327-804ca459d9aa",
   "metadata": {},
   "outputs": [
    {
     "name": "stdout",
     "output_type": "stream",
     "text": [
      "X(t_0): [1. 0. 0. 1.]\n",
      "X(t_1): [-0.83907153 -0.54402111  0.54402111 -0.83907153]\n",
      "X(t_10): [ 0.86231887 -0.50636564  0.50636564  0.86231887]\n"
     ]
    }
   ],
   "source": [
    "X = sol_two_body.y.T\n",
    "print(\"X(t_0):\", X[0])\n",
    "print(\"X(t_1):\",X[1])\n",
    "print(\"X(t_10):\",X[10])"
   ]
  },
  {
   "cell_type": "markdown",
   "id": "4d8a174b-e974-4e6e-b592-0ad423b3d6bd",
   "metadata": {},
   "source": [
    "**b. Perturb the previous set of initial conditions by an amount\n",
    "X∗(t0) = X(t0) −δX(t0). Numerically integrate this “nominal” trajectory along with the associated state transition\n",
    "matrix to find X∗(ti) and Φ(ti,t0) at ti = i ·10 TU; i = 0,...,10.**"
   ]
  },
  {
   "cell_type": "code",
   "execution_count": 185,
   "id": "5d92739b-d39a-4a00-bd33-d7c034d543f2",
   "metadata": {},
   "outputs": [],
   "source": [
    "def two_body_stm(t, R, mu):\n",
    "    r = np.linalg.norm(R[0:2])\n",
    "    \n",
    "    phi = R[4:].reshape((4, 4))\n",
    "    A = np.zeros([4, 4])\n",
    "    A[0, 2] = 1\n",
    "    A[1, 3] = 1\n",
    "    A[2, 0] = 3 * mu * R[0]**2 / r**5 - mu/r**3\n",
    "    A[3, 0] = 3 * mu * R[0] * R[1] / r**5\n",
    "    A[2, 1] = 3 * mu * R[0] * R[1] / r**5\n",
    "    A[3, 1] = 3 * mu * R[1]**2 / r**5 - mu / r**3\n",
    "    \n",
    "    phi_dot = np.matmul(A, phi)\n",
    "    r_ddot = -R[0:2]/r**3\n",
    "    \n",
    "    return np.concatenate([R[2:4], r_ddot, phi_dot.ravel()])"
   ]
  },
  {
   "cell_type": "code",
   "execution_count": 144,
   "id": "d03cdc28-bf83-4ce4-9978-ebc4884e436f",
   "metadata": {},
   "outputs": [],
   "source": [
    "t = np.arange(0, 110, 10)\n",
    "dX = np.array([1E-6, -1E-6, 1E-6, 1E-6])\n",
    "\n",
    "#initial conditions\n",
    "Xd0 = X0 - dX\n",
    "phi = np.eye(4)\n",
    "R0 = np.concatenate([Xd0, phi.ravel()])\n",
    "\n",
    "#numeric integration\n",
    "sol_two_body_stm = solve_ivp(two_body_stm, [0, 110], R0, args=(mu,), t_eval=t, rtol=3E-14, atol=1E-16)"
   ]
  },
  {
   "cell_type": "markdown",
   "id": "c839ab1f-aecf-4f1b-9a91-537d05cef6d6",
   "metadata": {},
   "source": [
    "**Provide X∗(ti) and Φ(ti,t0) at t1 and t10 in the write-up.**"
   ]
  },
  {
   "cell_type": "code",
   "execution_count": 270,
   "id": "f65c6bb9-8ae0-4dae-8f53-4627c5ac8afd",
   "metadata": {},
   "outputs": [
    {
     "name": "stdout",
     "output_type": "stream",
     "text": [
      "X*(t_0): [ 9.99999e-01  1.00000e-06 -1.00000e-06  9.99999e-01]\n",
      "phi(t_0, t_0):\n",
      "  [[1. 0. 0. 0.]\n",
      " [0. 1. 0. 0.]\n",
      " [0. 0. 1. 0.]\n",
      " [0. 0. 0. 1.]]\n",
      "X(t_1): [-0.8390311  -0.54407149  0.54407612 -0.83904124]\n",
      "phi(t_1, t_0):\n",
      "  [[-19.29631747  -1.00059195  -1.54462409 -20.59227468]\n",
      " [ 24.5395369    2.54304004   3.38202244  24.99596383]\n",
      " [-26.62844858  -1.24704108  -2.08602899 -27.54137483]\n",
      " [-15.07542265  -1.45709728  -2.00114421 -14.66741225]]\n",
      "X(t_10): [ 0.86262336 -0.50584396  0.50584569  0.8626233 ]\n",
      "phi(t_10, t_0):\n",
      "  [[-1.51284032e+02 -6.96433460e-02 -5.75183991e-01 -1.52539455e+02]\n",
      " [-2.60234514e+02  8.81235607e-01  1.91322895e-02 -2.60670088e+02]\n",
      " [ 2.59154448e+02  3.74643453e-01  1.23674844e+00  2.60026380e+02]\n",
      " [-1.52127911e+02  3.66712857e-01 -1.38829570e-01 -1.51639213e+02]]\n"
     ]
    }
   ],
   "source": [
    "print(\"X*(t_0):\",sol_two_body_stm.y.T[0, 0:4])\n",
    "print(\"phi(t_0, t_0):\\n \", sol_two_body_stm.y.T[0, 4:].reshape((4, 4)))\n",
    "print(\"X(t_1):\",sol_two_body_stm.y.T[1, 0:4])\n",
    "print(\"phi(t_1, t_0):\\n \",sol_two_body_stm.y.T[1, 4:].reshape((4, 4)))\n",
    "print(\"X(t_10):\",sol_two_body_stm.y.T[10, 0:4])\n",
    "print(\"phi(t_10, t_0):\\n \",sol_two_body_stm.y.T[10, 4:].reshape((4, 4)))"
   ]
  },
  {
   "cell_type": "markdown",
   "id": "e27a997a-ebe6-4c67-a1f3-376cfe42fa20",
   "metadata": {},
   "source": [
    "**c. For this problem, Φ(ti,t0) is symplectic. Demonstrate this for Φ(t10,t0) by multiplying it by\n",
    "Φ−1(t10,t0), given by Eq. 4.2.22 in the text. Provide Φ−1(t10,t0) and show that the product\n",
    "with Φ(t10,t0) is the identity matrix.**"
   ]
  },
  {
   "cell_type": "code",
   "execution_count": 271,
   "id": "59f0eead-68a8-4418-89e9-41ec388f71c6",
   "metadata": {},
   "outputs": [
    {
     "name": "stdout",
     "output_type": "stream",
     "text": [
      "phi(t_10, t_0)^-1:\n",
      " [[ 1.23674844e+00 -1.38829570e-01  5.75183991e-01 -1.91322894e-02]\n",
      " [ 2.60026380e+02 -1.51639213e+02  1.52539455e+02  2.60670088e+02]\n",
      " [-2.59154448e+02  1.52127911e+02 -1.51284032e+02 -2.60234514e+02]\n",
      " [-3.74643453e-01 -3.66712857e-01 -6.96433461e-02  8.81235607e-01]]\n",
      "phi(t_10, t0)*phi(t_10, t_0)^-1: \n",
      " [[ 1.  0. -0. -0.]\n",
      " [-0.  1.  0.  0.]\n",
      " [ 0.  0.  1. -0.]\n",
      " [ 0.  0. -0.  1.]]\n"
     ]
    }
   ],
   "source": [
    "phi10 = sol_two_body_stm.y.T[10, 4:].reshape((4, 4))\n",
    "print(\"phi(t_10, t_0)^-1:\\n\", np.linalg.inv(phi10))\n",
    "print(\"phi(t_10, t0)*phi(t_10, t_0)^-1: \\n\", np.matmul(phi10, np.linalg.inv(phi10)).round())"
   ]
  },
  {
   "cell_type": "markdown",
   "id": "e9634311-1aea-44ef-a329-39e58fcb62fd",
   "metadata": {},
   "source": [
    "**d. Calculate the perturbation vector, δX(ti), by the following methods:  \n",
    "(1) δX(ti) = X(ti) −X∗(ti)  \n",
    "(2) δX(ti) = Φ(ti,t0)δX(t0)  \n",
    "and compare the results of (1) and (2). Provide the numeric results of (1) and (2) at t1 and\n",
    "t10 in the write-up, along with δX(ti) −Φ(ti,t0)δX(t0). How closely do they compare?**"
   ]
  },
  {
   "cell_type": "code",
   "execution_count": 273,
   "id": "5af2fed0-994d-4f13-af04-a04ba4cbfc58",
   "metadata": {},
   "outputs": [
    {
     "name": "stdout",
     "output_type": "stream",
     "text": [
      "dX(t_1) = X(t_1)-X*(t_1):  [-4.04310379e-05  5.03755902e-05 -5.50095267e-05 -3.02848903e-05]\n",
      "phi(t_1, t_0)*dX(t_0):  [-4.04326243e-05  5.03744831e-05 -5.50088113e-05 -3.02868818e-05]\n",
      "dX(t1) - phi(t_1, t_0)*dX(t_0):  [ 1.58643818e-09  1.10708336e-09 -7.15365896e-10  1.99149098e-09]\n"
     ]
    }
   ],
   "source": [
    "Xstar = sol_two_body_stm.y.T[:, 0:4]\n",
    "phi1 = sol_two_body_stm.y.T[1, 4:].reshape((4, 4))\n",
    "dX0 = np.array([1E-6, -1E-6, 1E-6, 1E-6])\n",
    "dX1_0 = X[1] - Xstar[1]\n",
    "print(\"dX(t_1) = X(t_1)-X*(t_1): \", dX1_0)\n",
    "dX1_1 = np.dot(phi1, dX0)\n",
    "print(\"phi(t_1, t_0)*dX(t_0): \", dX1_1)\n",
    "print(\"dX(t_1) - phi(t_1, t_0)*dX(t_0): \", dX1_0 - dX1_1)"
   ]
  },
  {
   "cell_type": "code",
   "execution_count": 274,
   "id": "d64fe168-2d1e-4beb-9f8e-f2303e28fff9",
   "metadata": {},
   "outputs": [
    {
     "name": "stdout",
     "output_type": "stream",
     "text": [
      "X(t_10)-X*(t_10):  [-0.00030449 -0.00052168  0.00051995 -0.00030443]\n",
      "phi(t_10, t_0)*dX(t_0):  [-0.00030433 -0.00052177  0.00052004 -0.00030427]\n",
      "dX(t_10) - phi(t_10, t_0)*dX(t_0):  [-1.58362570e-07  8.87747287e-08 -9.10120600e-08 -1.58109594e-07]\n"
     ]
    }
   ],
   "source": [
    "phi10 = sol_two_body_stm.y.T[10, 4:].reshape((4, 4))\n",
    "dX0 = np.array([1E-6, -1E-6, 1E-6, 1E-6])\n",
    "dX10_0 = X[10]- Xstar[10]\n",
    "print(\"X(t_10)-X*(t_10): \", dX10_0)\n",
    "dX10_1 = np.dot(phi10, dX0)\n",
    "print(\"phi(t_10, t_0)*dX(t_0): \", dX10_1)\n",
    "print(\"dX(t_10) - phi(t_10, t_0)*dX(t_0): \", dX10_0 - dX10_1)"
   ]
  },
  {
   "cell_type": "markdown",
   "id": "3ddac97c-3899-40f2-bb7e-7262458ea686",
   "metadata": {},
   "source": [
    "**2) Given the observation state relation $y = H x + \\hat \\epsilon$**  \n",
    "**a. Using the batch processing algorithm, what is $\\hat x$? In the write-up, outline the method\n",
    "employed in the code.**\n",
    "\n",
    "I used the batch processing algorithm descibed on lecture slide 11 from module 7. It starts by initializing the values according to the initial conditions provided as well as $\\Lambda$ and $N$. Since this is a scalar example $\\phi = 1$ and $A = 0$, resulting in $\\dot \\phi = 0$. This makes $\\phi$ always 1. Thus the Propogation to Next Observation step can be skipped. Next I go through the Accumulate and Map to Epoch step to find the new values of $\\Lambda$ and $N$. Those are then used to solve the Normal Equations to find $\\hat x$. "
   ]
  },
  {
   "cell_type": "code",
   "execution_count": 283,
   "id": "5e9dc3e0-6658-4731-9a20-abb4d301c549",
   "metadata": {},
   "outputs": [
    {
     "name": "stdout",
     "output_type": "stream",
     "text": [
      "x_hat:  1.5\n"
     ]
    }
   ],
   "source": [
    "y_bar = np.array([1, 2, 1])\n",
    "W = np.array([[2, 0, 0], [0, 1, 0], [0, 0, 1]])\n",
    "H_dbar = np.array([1, 1, 1]).T \n",
    "\n",
    "x_bar = 2#1x1\n",
    "W_bar = 2 \n",
    "lam = W_bar \n",
    "N = W_bar*x_bar \n",
    "x_hat = 0\n",
    "\n",
    "#batch processing algorithm\n",
    "phi_t = np.array([1])\n",
    "lam = W_bar\n",
    "N = W_bar*x_bar\n",
    "yi = y_bar \n",
    "\n",
    "#Accumulate and map to epoch\n",
    "Hi_tilda = H_dbar\n",
    "Hi = Hi_tilda*phi_t \n",
    "lam = lam + np.dot(np.dot(Hi.T, W), Hi)\n",
    "N = N + np.dot(np.dot(Hi.T, W), yi)\n",
    "\n",
    "#Solve for normal equation\n",
    "x_hat = N/lam\n",
    "\n",
    "print(\"x_hat: \", x_hat)"
   ]
  },
  {
   "cell_type": "markdown",
   "id": "e7f3430b-a880-412a-87ac-b2530d240c65",
   "metadata": {},
   "source": [
    "**b. What is the best estimate of the observation error, $\\hat \\epsilon$?**"
   ]
  },
  {
   "cell_type": "code",
   "execution_count": 278,
   "id": "556a55a0-3c05-4c9c-9446-4f94b431394e",
   "metadata": {},
   "outputs": [
    {
     "name": "stdout",
     "output_type": "stream",
     "text": [
      "e_hat:  [-0.5  0.5 -0.5]\n"
     ]
    }
   ],
   "source": [
    "e_hat = yi-H_dbar*x_hat_new\n",
    "print(\"e_hat: \", e_hat)"
   ]
  }
 ],
 "metadata": {
  "kernelspec": {
   "display_name": "Python 3 (ipykernel)",
   "language": "python",
   "name": "python3"
  },
  "language_info": {
   "codemirror_mode": {
    "name": "ipython",
    "version": 3
   },
   "file_extension": ".py",
   "mimetype": "text/x-python",
   "name": "python",
   "nbconvert_exporter": "python",
   "pygments_lexer": "ipython3",
   "version": "3.10.4"
  }
 },
 "nbformat": 4,
 "nbformat_minor": 5
}
